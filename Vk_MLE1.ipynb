{
  "nbformat": 4,
  "nbformat_minor": 0,
  "metadata": {
    "colab": {
      "provenance": []
    },
    "kernelspec": {
      "name": "python3",
      "display_name": "Python 3"
    },
    "language_info": {
      "name": "python"
    }
  },
  "cells": [
    {
      "cell_type": "code",
      "execution_count": 12,
      "metadata": {
        "id": "D9Wi94hTSYeD"
      },
      "outputs": [],
      "source": [
        "import pandas as pd\n",
        "from catboost import CatBoost, Pool\n",
        "from sklearn.metrics import ndcg_score\n",
        "from sklearn.model_selection import train_test_split"
      ]
    },
    {
      "cell_type": "code",
      "source": [
        "# Загрузка данных\n",
        "data = pd.read_csv('/content/drive/MyDrive/Colab Content/intern_task.csv')\n"
      ],
      "metadata": {
        "id": "pS996tLRUpy5"
      },
      "execution_count": 8,
      "outputs": []
    },
    {
      "cell_type": "code",
      "source": [
        "# Подсчет количества элементов в каждом классе query_id\n",
        "query_id_counts = data['query_id'].value_counts()\n",
        "\n",
        "# Отфильтровать данные, исключив классы с одним элементом\n",
        "filtered_data = data[data['query_id'].isin(query_id_counts[query_id_counts > 1].index)]\n",
        "\n",
        "# Сортировка данных по query_id\n",
        "filtered_data.sort_values(by='query_id', inplace=True)\n",
        "\n",
        "# Подготовка данных\n",
        "X = filtered_data.drop(['rank'], axis=1)  # Удаляем только столбец 'rank'\n",
        "y = filtered_data['rank']\n",
        "query_id = filtered_data['query_id']\n",
        "\n",
        "# Получение уникальных query_id\n",
        "unique_query_ids = query_id.unique()\n",
        "\n",
        "# Разделение уникальных query_id на обучающую и тестовую выборки\n",
        "train_query_ids, test_query_ids = train_test_split(unique_query_ids, test_size=0.2, random_state=42)\n",
        "\n",
        "# Разделение данных на обучающую и тестовую выборки на основе query_id\n",
        "X_train = X[X['query_id'].isin(train_query_ids)]\n",
        "y_train = y[X['query_id'].isin(train_query_ids)]\n",
        "X_test = X[X['query_id'].isin(test_query_ids)]\n",
        "y_test = y[X['query_id'].isin(test_query_ids)]\n",
        "\n",
        "# Обучение модели CatBoost\n",
        "train_pool = Pool(data=X_train, label=y_train, group_id=X_train['query_id'])\n",
        "test_pool = Pool(data=X_test, label=y_test, group_id=X_test['query_id'])\n"
      ],
      "metadata": {
        "colab": {
          "base_uri": "https://localhost:8080/"
        },
        "id": "J8bqmlRBUp1i",
        "outputId": "27ab0791-745c-4dbb-9280-446b62e26c97"
      },
      "execution_count": 13,
      "outputs": [
        {
          "output_type": "stream",
          "name": "stderr",
          "text": [
            "<ipython-input-13-127b66102cc4>:8: SettingWithCopyWarning: \n",
            "A value is trying to be set on a copy of a slice from a DataFrame\n",
            "\n",
            "See the caveats in the documentation: https://pandas.pydata.org/pandas-docs/stable/user_guide/indexing.html#returning-a-view-versus-a-copy\n",
            "  filtered_data.sort_values(by='query_id', inplace=True)\n"
          ]
        }
      ]
    },
    {
      "cell_type": "code",
      "source": [
        "model = CatBoost({'loss_function': 'YetiRank', 'iterations': 100, 'custom_metric': ['NDCG'], 'verbose': False})\n",
        "model.fit(train_pool)"
      ],
      "metadata": {
        "colab": {
          "base_uri": "https://localhost:8080/"
        },
        "id": "AhgBE3miUp6j",
        "outputId": "82e1adc9-691f-40af-c512-f12e1238a03d"
      },
      "execution_count": 14,
      "outputs": [
        {
          "output_type": "execute_result",
          "data": {
            "text/plain": [
              "<catboost.core.CatBoost at 0x78b7996a2110>"
            ]
          },
          "metadata": {},
          "execution_count": 14
        }
      ]
    },
    {
      "cell_type": "code",
      "source": [
        "# Предсказание рангов на тестовой выборке\n",
        "y_pred = model.predict(test_pool)\n",
        "\n",
        "# Расчет метрик ранжирования (NDCG@5)\n",
        "ndcg_5 = ndcg_score(y_test.values.reshape(1, -1), y_pred.reshape(1, -1), k=5)\n",
        "\n",
        "print(f\"NDCG@5: {ndcg_5}\")"
      ],
      "metadata": {
        "colab": {
          "base_uri": "https://localhost:8080/"
        },
        "id": "18KHaE7OU8oX",
        "outputId": "ebefc77c-0e64-434a-9031-a8611988c24f"
      },
      "execution_count": 15,
      "outputs": [
        {
          "output_type": "stream",
          "name": "stdout",
          "text": [
            "NDCG@5: 0.9152099486815958\n"
          ]
        }
      ]
    }
  ]
}